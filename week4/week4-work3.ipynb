{
 "cells": [
  {
   "cell_type": "markdown",
   "metadata": {},
   "source": [
    "# Week4授業前課題3 オブジェクト指向に慣れよう   \n",
    "\n",
    "この課題の目的   \n",
    "- クラスを利用したコードを読み書きできるようにする"
   ]
  },
  {
   "cell_type": "markdown",
   "metadata": {},
   "source": [
    "## 【問題1】これまで利用してきたクラスの列挙"
   ]
  },
  {
   "cell_type": "markdown",
   "metadata": {},
   "source": [
    "- Pandas   \n",
    "DataFrame, Series   \n",
    "<br>\n",
    "- matplotlib   \n",
    "Figure   \n",
    "<br>\n",
    "- scikit-learn   \n",
    "StandardScaler, KNeighborsClassifier, LogisticRegression, SVC, DecisionTreeClassifier, RandomForestClassifier, LinearRegression, SVR、DecisionTreeRegression, RandomForestRegression"
   ]
  },
  {
   "cell_type": "markdown",
   "metadata": {},
   "source": [
    "## 【問題2】これまで利用してきたメソッドやインスタンス変数の列挙"
   ]
  },
  {
   "cell_type": "markdown",
   "metadata": {},
   "source": [
    "- メソッド   \n",
    "    - pandas.DataFrame   \n",
    "      fillna, head, isnull, sort_values   \n",
    "      <br>\n",
    "    - sklearn.preprocessing.StanderdScaler   \n",
    "        it, fit_transform, transform   \n",
    "        <br>\n",
    "    - sklearn.neighbors.KNeighborsClassifier   \n",
    "        fit, predict   \n",
    "<br>\n",
    "- インスタンス変数\n",
    "    - pandas.DataFrame   \n",
    "      iloc, loc, shape, size   \n",
    "      <br>\n",
    "    - numpy.ndarray   \n",
    "      T, dtype, shape"
   ]
  },
  {
   "cell_type": "markdown",
   "metadata": {},
   "source": [
    "## 【問題3】標準化クラスをスクラッチで作成"
   ]
  },
  {
   "cell_type": "code",
   "execution_count": 10,
   "metadata": {},
   "outputs": [],
   "source": [
    "class ScratchStandardScaler():\n",
    "    \"\"\"\n",
    "    標準化のためのクラス\n",
    "    \n",
    "    Attributes\n",
    "    --------------\n",
    "    mean_ : 次の形のndarray, shape(n_features, )\n",
    "        平均\n",
    "    var_ : 次の形のndarray, shape(n_features, )\n",
    "        分散\n",
    "    \"\"\"\n",
    "    \n",
    "    def fit(self, X):\n",
    "        \"\"\"\n",
    "        標準化のために平均と標準偏差を計算する。\n",
    "        \n",
    "        Parameters\n",
    "        ---------------\n",
    "        X : 次の形のndarray, shape(n_samples, n_featrures)\n",
    "            学習データ\n",
    "        \"\"\"\n",
    "        self.mean_ = np.mean(X, axis=0)\n",
    "        self.var_ = np.var(X, axis=0)\n",
    "\n",
    "        \n",
    "    def transform(self, X):\n",
    "        \"\"\"\n",
    "        fitで求めた値を使い標準化を行う。\n",
    "        \n",
    "        Parameters\n",
    "        ----------------\n",
    "        X : 次の形のndarray, shape(n_samples, n_featrures)\n",
    "            特徴量\n",
    "            \n",
    "        Returns\n",
    "        ---------------\n",
    "        X_scaled : 次の形のndarray, shape(n_samples, n_featrures)\n",
    "            標準化された特徴量\n",
    "        \"\"\"\n",
    "\n",
    "        X_scaled = (X - self.mean_ ) / np.sqrt(self.var_)\n",
    "        return X_scaled"
   ]
  },
  {
   "cell_type": "code",
   "execution_count": 11,
   "metadata": {},
   "outputs": [
    {
     "name": "stdout",
     "output_type": "stream",
     "text": [
      "平均 ： [4.86 3.31 1.45 0.22]\n",
      "分散 ： [0.0764 0.0849 0.0105 0.0056]\n"
     ]
    }
   ],
   "source": [
    "#コードの実行\n",
    "import numpy as np\n",
    "from sklearn.datasets import load_iris\n",
    "\n",
    "data = load_iris()\n",
    "X = data.data[:10]\n",
    "\n",
    "scratch_scaler = ScratchStandardScaler()\n",
    "scratch_scaler.fit(X)\n",
    "print(\"平均 ：\", scratch_scaler.mean_)\n",
    "print(\"分散 ：\", scratch_scaler.var_)\n",
    "X_std = scratch_scaler.transform(X)"
   ]
  },
  {
   "cell_type": "markdown",
   "metadata": {},
   "source": [
    "## 【問題4】四則演算を行うクラスの作成"
   ]
  },
  {
   "cell_type": "code",
   "execution_count": 12,
   "metadata": {},
   "outputs": [],
   "source": [
    "import warnings\n",
    "class CalculationClass():\n",
    "    \"\"\"\n",
    "    四則演算を行うクラス\n",
    "    \n",
    "    Parameters\n",
    "    ----------------\n",
    "    value : float or int\n",
    "    初期値\n",
    "        \n",
    "    Attributes\n",
    "    -------------\n",
    "    value : float or int\n",
    "    計算結果\n",
    "    \"\"\"\n",
    "\n",
    "    def __init__(self, value):\n",
    "        \"\"\"\n",
    "        コンストラクタ\n",
    "        valueがfloat or int以外の場合は警告文を出し、value = 0とする\n",
    "        \"\"\"\n",
    "            \n",
    "        if  isinstance(value, int) or isinstance(value, float):\n",
    "            self.value = value\n",
    "            print(\"初期値{}が設定されました\".format(self.value))\n",
    "                \n",
    "        else:\n",
    "            warnings.warn('数値を入力してください')\n",
    "            self.value = 0\n",
    "\n",
    "    def add(self, value2):\n",
    "        \"\"\"\n",
    "        受け取った引数をself.valueに加える\n",
    "\n",
    "        Parameters\n",
    "        ----------------\n",
    "        value2 : float or int\n",
    "        足す値\n",
    "        \"\"\"\n",
    "        self.value += value2\n",
    "\n",
    "    def sub(self, value3):\n",
    "        \"\"\"\n",
    "        受け取った引数をself.valueから引く\n",
    "\n",
    "        Parameters\n",
    "        ----------------\n",
    "        value3 : float or int\n",
    "        引く値\n",
    "        \"\"\"\n",
    "        self.value -= value3\n",
    "\n",
    "    def mul(self, value4):\n",
    "        \"\"\"\n",
    "        受け取った引数をself.valueとかける\n",
    "\n",
    "        Parameters\n",
    "        ----------------\n",
    "        value4: float or int\n",
    "        かける値\n",
    "        \"\"\"\n",
    "        self.value *= value4\n",
    "\n",
    "    def div(self, value5):\n",
    "        \"\"\"\n",
    "        受け取った引数をself.valueと割る\n",
    "\n",
    "        Parameters\n",
    "        ----------------\n",
    "        value5 : float or int\n",
    "        割る値\n",
    "        \"\"\"\n",
    "        self.value /= value5"
   ]
  },
  {
   "cell_type": "code",
   "execution_count": 13,
   "metadata": {},
   "outputs": [
    {
     "name": "stdout",
     "output_type": "stream",
     "text": [
      "初期値5が設定されました\n",
      "value : 5\n",
      "value : 8\n"
     ]
    }
   ],
   "source": [
    "#初期値5、3を足す\n",
    "cal_add = CalculationClass(5)\n",
    "print(\"value :\", cal_add.value)\n",
    "cal_add.add(3)\n",
    "print(\"value :\", cal_add.value)"
   ]
  },
  {
   "cell_type": "code",
   "execution_count": 14,
   "metadata": {},
   "outputs": [
    {
     "name": "stdout",
     "output_type": "stream",
     "text": [
      "初期値5が設定されました\n",
      "value : 5\n",
      "value : 2\n"
     ]
    }
   ],
   "source": [
    "#初期値5、3を引く\n",
    "cal_sub = CalculationClass(5)\n",
    "print(\"value :\", cal_sub.value)\n",
    "cal_sub .sub(3)\n",
    "print(\"value :\", cal_sub.value)"
   ]
  },
  {
   "cell_type": "code",
   "execution_count": 15,
   "metadata": {},
   "outputs": [
    {
     "name": "stdout",
     "output_type": "stream",
     "text": [
      "初期値5が設定されました\n",
      "value : 5\n",
      "value : 15\n"
     ]
    }
   ],
   "source": [
    "#初期値5、3をかける\n",
    "cal_mul = CalculationClass(5)\n",
    "print(\"value :\", cal_mul.value)\n",
    "cal_mul.mul(3)\n",
    "print(\"value :\", cal_mul.value)"
   ]
  },
  {
   "cell_type": "code",
   "execution_count": 16,
   "metadata": {},
   "outputs": [
    {
     "name": "stdout",
     "output_type": "stream",
     "text": [
      "初期値5が設定されました\n",
      "value : 5\n",
      "value : 1.6666666666666667\n"
     ]
    }
   ],
   "source": [
    "#初期値5、3で割る\n",
    "cal_div = CalculationClass(5)\n",
    "print(\"value :\", cal_div.value)\n",
    "cal_div.div(3)\n",
    "print(\"value :\", cal_div.value)"
   ]
  },
  {
   "cell_type": "code",
   "execution_count": 17,
   "metadata": {},
   "outputs": [
    {
     "name": "stdout",
     "output_type": "stream",
     "text": [
      "value : 0\n",
      "value : 3\n"
     ]
    },
    {
     "name": "stderr",
     "output_type": "stream",
     "text": [
      "/Users/yuhisoejima/.pyenv/versions/anaconda3-5.3.1/lib/python3.7/site-packages/ipykernel_launcher.py:28: UserWarning: 数値を入力してください\n"
     ]
    }
   ],
   "source": [
    "#初期値がstr型\n",
    "cal_str = CalculationClass('a')\n",
    "print(\"value :\", cal_str.value)\n",
    "cal_str.add(3)\n",
    "print(\"value :\", cal_str.value)"
   ]
  },
  {
   "cell_type": "code",
   "execution_count": 18,
   "metadata": {},
   "outputs": [
    {
     "name": "stdout",
     "output_type": "stream",
     "text": [
      "value : 0\n",
      "value : 3\n"
     ]
    },
    {
     "name": "stderr",
     "output_type": "stream",
     "text": [
      "/Users/yuhisoejima/.pyenv/versions/anaconda3-5.3.1/lib/python3.7/site-packages/ipykernel_launcher.py:28: UserWarning: 数値を入力してください\n"
     ]
    }
   ],
   "source": [
    "#初期値がlist型\n",
    "cal_list = CalculationClass([1, 2, 3])\n",
    "print(\"value :\", cal_list.value)\n",
    "cal_list.add(3)\n",
    "print(\"value :\", cal_list.value)"
   ]
  }
 ],
 "metadata": {
  "kernelspec": {
   "display_name": "Python 3",
   "language": "python",
   "name": "python3"
  },
  "language_info": {
   "codemirror_mode": {
    "name": "ipython",
    "version": 3
   },
   "file_extension": ".py",
   "mimetype": "text/x-python",
   "name": "python",
   "nbconvert_exporter": "python",
   "pygments_lexer": "ipython3",
   "version": "3.7.2"
  }
 },
 "nbformat": 4,
 "nbformat_minor": 2
}
