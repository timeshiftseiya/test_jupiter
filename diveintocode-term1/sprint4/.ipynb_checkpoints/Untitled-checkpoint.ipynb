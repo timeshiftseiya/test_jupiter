{
 "cells": [
  {
   "cell_type": "markdown",
   "metadata": {},
   "source": [
    "# Sprint4 機械学習スクラッチロジスティック回帰   \n",
    "\n",
    "この課題の目的\n",
    "- スクラッチを通してロジスティック回帰を理解する\n",
    "- 分類問題についての基礎を学ぶ\n",
    "\n",
    "正しく動作しているかを確認するために、この関数に-10から10の値を入力したときの出力をプロットしておいてください。   \n",
    "$$ h_\\theta(x) = g(\\theta^T x) $$   \n",
    "$$ g(z) = \\frac{1}{1+e^{-z}} $$   \n",
    "$$ J(\\theta)=  \\frac{1}{m}  \\sum_{i=1}^{m}[-y^{(i)} log(h_\\theta(x^{(i)})) - (1-y^{(i)}) log(1-h_\\theta(x^{(i)}))] +\n",
    "\\frac{\\lambda}{2m}\\sum_{j=1}^n \\theta^2_j $$   \n",
    "$ m $ : 入力されるデータの数  \n",
    "$ h_\\theta() $ : 仮定関数  \n",
    "$ x $ : 特徴量ベクトル  \n",
    "$ \\theta $ : パラメータベクトル  \n",
    "$ g() $ : シグモイド関数  \n",
    "$ x^{(i)} $ :i 番目のサンプルの特徴量ベクトル  \n",
    "$ y^{(i)} $ :i 番目のサンプルの正解ラベル  \n",
    "$ \\theta_j $ :j 番目のパラメータ(重み)  \n",
    "$ n $ : 特徴量の数   "
   ]
  },
  {
   "cell_type": "markdown",
   "metadata": {},
   "source": [
    "正しく動作しているかを確認するために、この関数に-10から10の値を入力したときの出力をプロットしておいてください。   \n",
    "$$ h_\\theta(x) = g(\\theta^T x) $$   \n",
    "$$ g(z) = \\frac{1}{1+e^{-z}} $$   \n",
    "$$ J(\\theta)=  \\frac{1}{m}  \\sum_{i=1}^{m}[-y^{(i)} log(h_\\theta(x^{(i)})) - (1-y^{(i)}) log(1-h_\\theta(x^{(i)}))] +\n",
    "\\frac{\\lambda}{2m}\\sum_{j=1}^n \\theta^2_j $$   \n",
    "$ m $ : 入力されるデータの数  \n",
    "$ h_\\theta() $ : 仮定関数  \n",
    "$ x $ : 特徴量ベクトル  \n",
    "$ \\theta $ : パラメータベクトル  \n",
    "$ g() $ : シグモイド関数  \n",
    "$ x^{(i)} $ :i 番目のサンプルの特徴量ベクトル  \n",
    "$ y^{(i)} $ :i 番目のサンプルの正解ラベル  \n",
    "$ \\theta_j $ :j 番目のパラメータ(重み)  \n",
    "$ n $ : 特徴量の数   "
   ]
  }
 ],
 "metadata": {
  "kernelspec": {
   "display_name": "Python 3",
   "language": "python",
   "name": "python3"
  },
  "language_info": {
   "codemirror_mode": {
    "name": "ipython",
    "version": 3
   },
   "file_extension": ".py",
   "mimetype": "text/x-python",
   "name": "python",
   "nbconvert_exporter": "python",
   "pygments_lexer": "ipython3",
   "version": "3.5.2"
  }
 },
 "nbformat": 4,
 "nbformat_minor": 2
}
