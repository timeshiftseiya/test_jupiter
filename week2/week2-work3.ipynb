{
 "cells": [
  {
   "cell_type": "markdown",
   "metadata": {},
   "source": [
    "# Week3授業前課題\n",
    "この課題の目的\n",
    "\n",
    "- 数式演算ライブラリのnumpyに慣れる\n",
    "- 機械学習に必須な行列演算に慣れる"
   ]
  },
  {
   "cell_type": "markdown",
   "metadata": {},
   "source": [
    "## 【課題1】 内積を手計算しよう"
   ]
  },
  {
   "cell_type": "markdown",
   "metadata": {},
   "source": [
    "$    \n",
    "A * B =\n",
    "\\begin{bmatrix}\n",
    "-1 & 2 & 3 \\\\\\ \n",
    "4 & -5 & 6 \\\\\\\n",
    "7 & 8 & -9\\end{bmatrix}\n",
    "\\hspace{2mm}*\\hspace{2mm}\n",
    "\\begin{bmatrix}\n",
    "0 & 2 & 1 \\\\\\ \n",
    "0 & 2 & -8 \\\\\\\n",
    "2 & 9 & -1\n",
    "\\end{bmatrix}\n",
    "$\n",
    "\n",
    "$\n",
    "\\hspace{11mm}=\n",
    "\\begin{bmatrix}\n",
    "(-1) \\times 0 + 2 \\times 0 + 3 \\times 2 & (-1) \\times 2 + 2 \\times 2 + 3 \\times 9 & (-1) \\times 1 + 2 \\times (-8) + 3 \\times (-1)\\\\\\ \n",
    "4 \\times 0 + (-5) \\times 0 + 6 \\times 2 & 4 \\times 2 + (-5) \\times 2 + 6 \\times 9 & 4 \\times 1 + (-5) \\times (-8) + 6 \\times (-1) \\\\\\\n",
    "7 \\times 0 + 8 \\times 0 + (-9) \\times 2 & 7 \\times 2 + 8 \\times 2 + (-9) \\times 9 & 7 \\times 1 + 8 \\times (-8) + (-9) \\times (-1)\n",
    "\\end{bmatrix}   \n",
    "$\n",
    "\n",
    "$\n",
    "\\hspace{11mm}=\n",
    "\\begin{bmatrix}\n",
    "6 & 29 & -20 \\\\\\ \n",
    "12 & 52 & 38 \\\\\\\n",
    "-18 & -51 & -48\n",
    "\\end{bmatrix}\n",
    "$"
   ]
  },
  {
   "cell_type": "markdown",
   "metadata": {},
   "source": [
    "## 【課題2】 1次元配列の内積をfor文で計算しよう"
   ]
  },
  {
   "cell_type": "code",
   "execution_count": 1,
   "metadata": {},
   "outputs": [
    {
     "name": "stdout",
     "output_type": "stream",
     "text": [
      "6\n"
     ]
    }
   ],
   "source": [
    "import numpy as np\n",
    "\n",
    "#行列A、行列Bを作成\n",
    "A = np.array([[-1, 2, 3], [4, -5, 6], [7, 8, -9]])\n",
    "B = np.array([[0, 2, 1], [0, 2, -8], [2, 9, -1]])\n",
    "\n",
    "#初期値を設定\n",
    "total = 0\n",
    "\n",
    "#行列Aの(0, i)と行列Bの(i, 0)を掛け合わせ、足し合わせる\n",
    "for i in range(3):\n",
    "    total += A[0, i] * B[i, 0]\n",
    "\n",
    "#出力\n",
    "print(total)"
   ]
  },
  {
   "cell_type": "markdown",
   "metadata": {},
   "source": [
    "## 【課題3】 多次元配列の内積をfor文で計算しよう"
   ]
  },
  {
   "cell_type": "code",
   "execution_count": 2,
   "metadata": {},
   "outputs": [
    {
     "data": {
      "text/plain": [
       "array([[  6.,  29., -20.],\n",
       "       [ 12.,  52.,  38.],\n",
       "       [-18., -51., -48.]])"
      ]
     },
     "execution_count": 2,
     "metadata": {},
     "output_type": "execute_result"
    }
   ],
   "source": [
    "#要素が全て0, 3行, 3列の2次元配列を作成\n",
    "np_zeros = np.zeros((3, 3))\n",
    "\n",
    "#A*Bの(0, 0), (0, 1), ..., (2, 2)の要素を計算し、np_zerosに代入\n",
    "for i in range(3):\n",
    "    for j in range(3):\n",
    "        for k in range(3):\n",
    "            np_zeros[i, j] += A[i, k] * B[k, j]\n",
    "\n",
    "#出力\n",
    "np_zeros"
   ]
  },
  {
   "cell_type": "markdown",
   "metadata": {},
   "source": [
    "## 【課題4】 内積をnp.dotで計算しよう"
   ]
  },
  {
   "cell_type": "code",
   "execution_count": 3,
   "metadata": {},
   "outputs": [
    {
     "data": {
      "text/plain": [
       "array([[  6,  29, -20],\n",
       "       [ 12,  52,  38],\n",
       "       [-18, -51, -48]])"
      ]
     },
     "execution_count": 3,
     "metadata": {},
     "output_type": "execute_result"
    }
   ],
   "source": [
    "AB = np.dot(A, B)\n",
    "AB"
   ]
  },
  {
   "cell_type": "markdown",
   "metadata": {},
   "source": [
    "## 【課題5】 内積ができないときはどうするか"
   ]
  },
  {
   "cell_type": "markdown",
   "metadata": {},
   "source": [
    "内積の計算は、左側(行列A)の行ベクトルの要素数と、右側(行列B)の列ベクトルの要素数が等しい時に計算が可能である。   \n",
    "そのため、どちらかを転置することでこの要素数を揃えることができ、内積の計算ができる。"
   ]
  },
  {
   "cell_type": "code",
   "execution_count": 4,
   "metadata": {},
   "outputs": [
    {
     "data": {
      "text/plain": [
       "array([[ 33, -28,   9],\n",
       "       [-48,  41,  -6],\n",
       "       [  9,  -6,  45]])"
      ]
     },
     "execution_count": 4,
     "metadata": {},
     "output_type": "execute_result"
    }
   ],
   "source": [
    "#行列A, Bを作成\n",
    "A = np.array([[-1, 2, 3], [4, -5, 6]])\n",
    "B = np.array([[-9, 8, 7], [6, -5, 4]])\n",
    "\n",
    "#行列Aを転置し、内積を計算\n",
    "AB_error = np.dot(A.T, B)\n",
    "AB_error"
   ]
  }
 ],
 "metadata": {
  "kernelspec": {
   "display_name": "Python 3",
   "language": "python",
   "name": "python3"
  },
  "language_info": {
   "codemirror_mode": {
    "name": "ipython",
    "version": 3
   },
   "file_extension": ".py",
   "mimetype": "text/x-python",
   "name": "python",
   "nbconvert_exporter": "python",
   "pygments_lexer": "ipython3",
   "version": "3.7.2"
  }
 },
 "nbformat": 4,
 "nbformat_minor": 2
}
